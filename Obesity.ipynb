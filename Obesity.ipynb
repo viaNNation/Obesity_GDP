{
 "cells": [
  {
   "cell_type": "code",
   "execution_count": 2,
   "id": "d6b31653-6cfb-4b24-9ddb-3ae204eb8772",
   "metadata": {},
   "outputs": [],
   "source": [
    "import pandas as pd\n",
    "import numpy as np"
   ]
  },
  {
   "cell_type": "markdown",
   "id": "c941cdd0-e742-4036-b5a4-3fc1599107c3",
   "metadata": {},
   "source": [
    "## Leitura do arquivo CSV para começo do tratamento de dados"
   ]
  },
  {
   "cell_type": "code",
   "execution_count": 4,
   "id": "d5340d1f-035c-4533-88d6-335be27354aa",
   "metadata": {},
   "outputs": [
    {
     "data": {
      "text/html": [
       "<div>\n",
       "<style scoped>\n",
       "    .dataframe tbody tr th:only-of-type {\n",
       "        vertical-align: middle;\n",
       "    }\n",
       "\n",
       "    .dataframe tbody tr th {\n",
       "        vertical-align: top;\n",
       "    }\n",
       "\n",
       "    .dataframe thead th {\n",
       "        text-align: right;\n",
       "    }\n",
       "</style>\n",
       "<table border=\"1\" class=\"dataframe\">\n",
       "  <thead>\n",
       "    <tr style=\"text-align: right;\">\n",
       "      <th></th>\n",
       "      <th>Unnamed: 0</th>\n",
       "      <th>Country</th>\n",
       "      <th>Year</th>\n",
       "      <th>Obesity (%)</th>\n",
       "      <th>Sex</th>\n",
       "    </tr>\n",
       "  </thead>\n",
       "  <tbody>\n",
       "    <tr>\n",
       "      <th>0</th>\n",
       "      <td>0</td>\n",
       "      <td>Afghanistan</td>\n",
       "      <td>1975</td>\n",
       "      <td>0.5 [0.2-1.1]</td>\n",
       "      <td>Both sexes</td>\n",
       "    </tr>\n",
       "    <tr>\n",
       "      <th>1</th>\n",
       "      <td>1</td>\n",
       "      <td>Afghanistan</td>\n",
       "      <td>1975</td>\n",
       "      <td>0.2 [0.0-0.6]</td>\n",
       "      <td>Male</td>\n",
       "    </tr>\n",
       "    <tr>\n",
       "      <th>2</th>\n",
       "      <td>2</td>\n",
       "      <td>Afghanistan</td>\n",
       "      <td>1975</td>\n",
       "      <td>0.8 [0.2-2.0]</td>\n",
       "      <td>Female</td>\n",
       "    </tr>\n",
       "    <tr>\n",
       "      <th>3</th>\n",
       "      <td>3</td>\n",
       "      <td>Afghanistan</td>\n",
       "      <td>1976</td>\n",
       "      <td>0.5 [0.2-1.1]</td>\n",
       "      <td>Both sexes</td>\n",
       "    </tr>\n",
       "    <tr>\n",
       "      <th>4</th>\n",
       "      <td>4</td>\n",
       "      <td>Afghanistan</td>\n",
       "      <td>1976</td>\n",
       "      <td>0.2 [0.0-0.7]</td>\n",
       "      <td>Male</td>\n",
       "    </tr>\n",
       "  </tbody>\n",
       "</table>\n",
       "</div>"
      ],
      "text/plain": [
       "   Unnamed: 0      Country  Year    Obesity (%)         Sex\n",
       "0           0  Afghanistan  1975  0.5 [0.2-1.1]  Both sexes\n",
       "1           1  Afghanistan  1975  0.2 [0.0-0.6]        Male\n",
       "2           2  Afghanistan  1975  0.8 [0.2-2.0]      Female\n",
       "3           3  Afghanistan  1976  0.5 [0.2-1.1]  Both sexes\n",
       "4           4  Afghanistan  1976  0.2 [0.0-0.7]        Male"
      ]
     },
     "execution_count": 4,
     "metadata": {},
     "output_type": "execute_result"
    }
   ],
   "source": [
    "df_obesity = pd.read_csv(\"obesity_cleaned.csv\")\n",
    "df_obesity.head()"
   ]
  },
  {
   "cell_type": "code",
   "execution_count": 5,
   "id": "03c0547a-b69f-4bc9-b76b-2eec3c395981",
   "metadata": {},
   "outputs": [
    {
     "name": "stdout",
     "output_type": "stream",
     "text": [
      "<class 'pandas.core.frame.DataFrame'>\n",
      "RangeIndex: 24570 entries, 0 to 24569\n",
      "Data columns (total 5 columns):\n",
      " #   Column       Non-Null Count  Dtype \n",
      "---  ------       --------------  ----- \n",
      " 0   Unnamed: 0   24570 non-null  int64 \n",
      " 1   Country      24570 non-null  object\n",
      " 2   Year         24570 non-null  int64 \n",
      " 3   Obesity (%)  24570 non-null  object\n",
      " 4   Sex          24570 non-null  object\n",
      "dtypes: int64(2), object(3)\n",
      "memory usage: 959.9+ KB\n"
     ]
    }
   ],
   "source": [
    "df_obesity.info()"
   ]
  },
  {
   "cell_type": "markdown",
   "id": "3d828b5a-494c-4ee4-b62b-ea26ef5f5338",
   "metadata": {},
   "source": [
    "## Aqui vamos começar a limpeza dos dados."
   ]
  },
  {
   "cell_type": "code",
   "execution_count": 7,
   "id": "a0b14c1a-5c6e-45c6-9c68-3325538d4754",
   "metadata": {},
   "outputs": [],
   "source": [
    "#retirando a coluna unnamed que é basicamente um índice duplicado\n",
    "del df_obesity[\"Unnamed: 0\"]"
   ]
  },
  {
   "cell_type": "code",
   "execution_count": 8,
   "id": "6ed7e0ef-8515-4a49-ad10-d69f9b16feb0",
   "metadata": {},
   "outputs": [
    {
     "data": {
      "text/html": [
       "<div>\n",
       "<style scoped>\n",
       "    .dataframe tbody tr th:only-of-type {\n",
       "        vertical-align: middle;\n",
       "    }\n",
       "\n",
       "    .dataframe tbody tr th {\n",
       "        vertical-align: top;\n",
       "    }\n",
       "\n",
       "    .dataframe thead th {\n",
       "        text-align: right;\n",
       "    }\n",
       "</style>\n",
       "<table border=\"1\" class=\"dataframe\">\n",
       "  <thead>\n",
       "    <tr style=\"text-align: right;\">\n",
       "      <th></th>\n",
       "      <th>Country</th>\n",
       "      <th>Year</th>\n",
       "      <th>Obesity (%)</th>\n",
       "      <th>Sex</th>\n",
       "      <th>Obesity</th>\n",
       "    </tr>\n",
       "  </thead>\n",
       "  <tbody>\n",
       "    <tr>\n",
       "      <th>0</th>\n",
       "      <td>Afghanistan</td>\n",
       "      <td>1975</td>\n",
       "      <td>0.5 [0.2-1.1]</td>\n",
       "      <td>Both sexes</td>\n",
       "      <td>0.5</td>\n",
       "    </tr>\n",
       "    <tr>\n",
       "      <th>1</th>\n",
       "      <td>Afghanistan</td>\n",
       "      <td>1975</td>\n",
       "      <td>0.2 [0.0-0.6]</td>\n",
       "      <td>Male</td>\n",
       "      <td>0.2</td>\n",
       "    </tr>\n",
       "    <tr>\n",
       "      <th>2</th>\n",
       "      <td>Afghanistan</td>\n",
       "      <td>1975</td>\n",
       "      <td>0.8 [0.2-2.0]</td>\n",
       "      <td>Female</td>\n",
       "      <td>0.8</td>\n",
       "    </tr>\n",
       "    <tr>\n",
       "      <th>3</th>\n",
       "      <td>Afghanistan</td>\n",
       "      <td>1976</td>\n",
       "      <td>0.5 [0.2-1.1]</td>\n",
       "      <td>Both sexes</td>\n",
       "      <td>0.5</td>\n",
       "    </tr>\n",
       "    <tr>\n",
       "      <th>4</th>\n",
       "      <td>Afghanistan</td>\n",
       "      <td>1976</td>\n",
       "      <td>0.2 [0.0-0.7]</td>\n",
       "      <td>Male</td>\n",
       "      <td>0.2</td>\n",
       "    </tr>\n",
       "    <tr>\n",
       "      <th>...</th>\n",
       "      <td>...</td>\n",
       "      <td>...</td>\n",
       "      <td>...</td>\n",
       "      <td>...</td>\n",
       "      <td>...</td>\n",
       "    </tr>\n",
       "    <tr>\n",
       "      <th>24565</th>\n",
       "      <td>Zimbabwe</td>\n",
       "      <td>2015</td>\n",
       "      <td>4.5 [2.4-7.6]</td>\n",
       "      <td>Male</td>\n",
       "      <td>4.5</td>\n",
       "    </tr>\n",
       "    <tr>\n",
       "      <th>24566</th>\n",
       "      <td>Zimbabwe</td>\n",
       "      <td>2015</td>\n",
       "      <td>24.8 [18.9-31.3]</td>\n",
       "      <td>Female</td>\n",
       "      <td>24.8</td>\n",
       "    </tr>\n",
       "    <tr>\n",
       "      <th>24567</th>\n",
       "      <td>Zimbabwe</td>\n",
       "      <td>2016</td>\n",
       "      <td>15.5 [12.0-19.2]</td>\n",
       "      <td>Both sexes</td>\n",
       "      <td>15.5</td>\n",
       "    </tr>\n",
       "    <tr>\n",
       "      <th>24568</th>\n",
       "      <td>Zimbabwe</td>\n",
       "      <td>2016</td>\n",
       "      <td>4.7 [2.5-8.0]</td>\n",
       "      <td>Male</td>\n",
       "      <td>4.7</td>\n",
       "    </tr>\n",
       "    <tr>\n",
       "      <th>24569</th>\n",
       "      <td>Zimbabwe</td>\n",
       "      <td>2016</td>\n",
       "      <td>25.3 [19.1-32.0]</td>\n",
       "      <td>Female</td>\n",
       "      <td>25.3</td>\n",
       "    </tr>\n",
       "  </tbody>\n",
       "</table>\n",
       "<p>24570 rows × 5 columns</p>\n",
       "</div>"
      ],
      "text/plain": [
       "           Country  Year       Obesity (%)         Sex Obesity\n",
       "0      Afghanistan  1975     0.5 [0.2-1.1]  Both sexes     0.5\n",
       "1      Afghanistan  1975     0.2 [0.0-0.6]        Male     0.2\n",
       "2      Afghanistan  1975     0.8 [0.2-2.0]      Female     0.8\n",
       "3      Afghanistan  1976     0.5 [0.2-1.1]  Both sexes     0.5\n",
       "4      Afghanistan  1976     0.2 [0.0-0.7]        Male     0.2\n",
       "...            ...   ...               ...         ...     ...\n",
       "24565     Zimbabwe  2015     4.5 [2.4-7.6]        Male     4.5\n",
       "24566     Zimbabwe  2015  24.8 [18.9-31.3]      Female    24.8\n",
       "24567     Zimbabwe  2016  15.5 [12.0-19.2]  Both sexes    15.5\n",
       "24568     Zimbabwe  2016     4.7 [2.5-8.0]        Male     4.7\n",
       "24569     Zimbabwe  2016  25.3 [19.1-32.0]      Female    25.3\n",
       "\n",
       "[24570 rows x 5 columns]"
      ]
     },
     "execution_count": 8,
     "metadata": {},
     "output_type": "execute_result"
    }
   ],
   "source": [
    "#separando a resposta da margem de erro. Não utilizaremos a margem de erro\n",
    "df_obesity['Obesity'] = df_obesity['Obesity (%)'].str.extract(r'(\\d+\\.\\d+)')\n",
    "df_obesity"
   ]
  },
  {
   "cell_type": "code",
   "execution_count": 9,
   "id": "88f45dc7-5e51-413f-a09e-130b17945386",
   "metadata": {},
   "outputs": [],
   "source": [
    "#deletando a coluna original que mantinha a margem de erro. \n",
    "del df_obesity[\"Obesity (%)\"]"
   ]
  },
  {
   "cell_type": "code",
   "execution_count": 10,
   "id": "494d1a44-6502-4f52-806e-55c150f65f21",
   "metadata": {},
   "outputs": [],
   "source": [
    "#Como nosso único dado útil é a taxa percentual de obesidade, vamos retirar as linhas vazias.\n",
    "df_obesity[\"Obesity\"] = df_obesity[\"Obesity\"].astype(float)"
   ]
  },
  {
   "cell_type": "code",
   "execution_count": 11,
   "id": "97252e83-3afd-4842-906e-f0c127fb2786",
   "metadata": {},
   "outputs": [
    {
     "data": {
      "text/plain": [
       "0"
      ]
     },
     "execution_count": 11,
     "metadata": {},
     "output_type": "execute_result"
    }
   ],
   "source": [
    "#conferindo os valores nulos e dropando-os \n",
    "df_obesity[\"Year\"].isnull().sum()"
   ]
  },
  {
   "cell_type": "code",
   "execution_count": 12,
   "id": "aa4953b8-21be-4d95-83fc-2a1f3ec675c3",
   "metadata": {},
   "outputs": [],
   "source": [
    "df_obesity = df_obesity.dropna()"
   ]
  },
  {
   "cell_type": "code",
   "execution_count": 13,
   "id": "e92eb34c-84df-498f-b995-344567c83904",
   "metadata": {},
   "outputs": [
    {
     "data": {
      "text/plain": [
       "0"
      ]
     },
     "execution_count": 13,
     "metadata": {},
     "output_type": "execute_result"
    }
   ],
   "source": [
    "# nova conferencia dos valores nulos\n",
    "df_obesity[\"Obesity\"].isnull().sum()"
   ]
  },
  {
   "cell_type": "code",
   "execution_count": 27,
   "id": "041bf6d9-a1c2-4591-90ed-264efc22dc3a",
   "metadata": {},
   "outputs": [
    {
     "data": {
      "text/html": [
       "<div>\n",
       "<style scoped>\n",
       "    .dataframe tbody tr th:only-of-type {\n",
       "        vertical-align: middle;\n",
       "    }\n",
       "\n",
       "    .dataframe tbody tr th {\n",
       "        vertical-align: top;\n",
       "    }\n",
       "\n",
       "    .dataframe thead th {\n",
       "        text-align: right;\n",
       "    }\n",
       "</style>\n",
       "<table border=\"1\" class=\"dataframe\">\n",
       "  <thead>\n",
       "    <tr style=\"text-align: right;\">\n",
       "      <th></th>\n",
       "      <th>Country</th>\n",
       "      <th>Year</th>\n",
       "      <th>Sex</th>\n",
       "      <th>Obesity</th>\n",
       "    </tr>\n",
       "  </thead>\n",
       "  <tbody>\n",
       "    <tr>\n",
       "      <th>0</th>\n",
       "      <td>Afghanistan</td>\n",
       "      <td>1975</td>\n",
       "      <td>Both sexes</td>\n",
       "      <td>0.5</td>\n",
       "    </tr>\n",
       "    <tr>\n",
       "      <th>1</th>\n",
       "      <td>Afghanistan</td>\n",
       "      <td>1975</td>\n",
       "      <td>Male</td>\n",
       "      <td>0.2</td>\n",
       "    </tr>\n",
       "    <tr>\n",
       "      <th>2</th>\n",
       "      <td>Afghanistan</td>\n",
       "      <td>1975</td>\n",
       "      <td>Female</td>\n",
       "      <td>0.8</td>\n",
       "    </tr>\n",
       "    <tr>\n",
       "      <th>3</th>\n",
       "      <td>Afghanistan</td>\n",
       "      <td>1976</td>\n",
       "      <td>Both sexes</td>\n",
       "      <td>0.5</td>\n",
       "    </tr>\n",
       "    <tr>\n",
       "      <th>4</th>\n",
       "      <td>Afghanistan</td>\n",
       "      <td>1976</td>\n",
       "      <td>Male</td>\n",
       "      <td>0.2</td>\n",
       "    </tr>\n",
       "  </tbody>\n",
       "</table>\n",
       "</div>"
      ],
      "text/plain": [
       "       Country  Year         Sex  Obesity\n",
       "0  Afghanistan  1975  Both sexes      0.5\n",
       "1  Afghanistan  1975        Male      0.2\n",
       "2  Afghanistan  1975      Female      0.8\n",
       "3  Afghanistan  1976  Both sexes      0.5\n",
       "4  Afghanistan  1976        Male      0.2"
      ]
     },
     "execution_count": 27,
     "metadata": {},
     "output_type": "execute_result"
    }
   ],
   "source": [
    "df_obesity.head()"
   ]
  },
  {
   "cell_type": "code",
   "execution_count": 38,
   "id": "3c795648-46e6-428b-8461-268e1396b35a",
   "metadata": {},
   "outputs": [
    {
     "data": {
      "text/plain": [
       "Sex\n",
       "Both sexes    19.508377\n",
       "Female        22.899476\n",
       "Male          15.980628\n",
       "Name: Obesity, dtype: float64"
      ]
     },
     "execution_count": 38,
     "metadata": {},
     "output_type": "execute_result"
    }
   ],
   "source": [
    "#Vendo a média de obesidade por sexo no ano de 2015\n",
    "df_obesity[df_obesity[\"Year\"] == 2015].groupby(\"Sex\")[\"Obesity\"].mean()"
   ]
  },
  {
   "cell_type": "code",
   "execution_count": 40,
   "id": "ca07a8bc-d706-417b-a90e-c5e122ab8db1",
   "metadata": {},
   "outputs": [],
   "source": [
    "#criando data frames para visualizar o aumento da taxa de obesidade do começo ao fim do período\n",
    "df_obesity_start = df_obesity[df_obesity[\"Year\"] == 1975]\n",
    "df_obesity_end = df_obesity[df_obesity[\"Year\"] == 2016]"
   ]
  },
  {
   "cell_type": "code",
   "execution_count": 42,
   "id": "0d0498d8-a09a-46b3-b035-27c3bf77cb5b",
   "metadata": {},
   "outputs": [],
   "source": [
    "df_obesity_start.set_index(\"Country\", inplace=True)\n",
    "df_obesity_end.set_index(\"Country\", inplace=True)"
   ]
  },
  {
   "cell_type": "code",
   "execution_count": 48,
   "id": "18e2fcfc-9242-42ea-ac77-bf9dc4a7be19",
   "metadata": {},
   "outputs": [],
   "source": [
    "df_obesity_evo = df_obesity_end[df_obesity_end[\"Sex\"] == \"Both sexes\"][\"Obesity\"] - df_obesity_start[df_obesity_end[\"Sex\"] == \"Both sexes\"][\"Obesity\"]"
   ]
  },
  {
   "cell_type": "code",
   "execution_count": 54,
   "id": "e6cd887f-934b-4f65-840d-56b915617f04",
   "metadata": {},
   "outputs": [
    {
     "data": {
      "text/plain": [
       "Country\n",
       "Viet Nam       2.0\n",
       "Singapore      3.1\n",
       "Japan          3.3\n",
       "Bangladesh     3.4\n",
       "Timor-Leste    3.6\n",
       "Name: Obesity, dtype: float64"
      ]
     },
     "execution_count": 54,
     "metadata": {},
     "output_type": "execute_result"
    }
   ],
   "source": [
    "#os países que menos cresceram o percentil de obesidade\n",
    "df_obesity_evo.sort_values().head()"
   ]
  },
  {
   "cell_type": "code",
   "execution_count": 56,
   "id": "9ea0b70f-5de9-4768-8c26-6770ff23c32b",
   "metadata": {},
   "outputs": [
    {
     "data": {
      "text/plain": [
       "Country\n",
       "Cook Islands    27.9\n",
       "Tonga           28.3\n",
       "Kiribati        30.1\n",
       "Niue            31.1\n",
       "Tuvalu          33.7\n",
       "Name: Obesity, dtype: float64"
      ]
     },
     "execution_count": 56,
     "metadata": {},
     "output_type": "execute_result"
    }
   ],
   "source": [
    "#os países que mais cresceram o percentil de obesidade\n",
    "df_obesity_evo.sort_values().tail()"
   ]
  },
  {
   "cell_type": "code",
   "execution_count": 62,
   "id": "9617bd6e-fbff-4325-ac1e-15c15d78c4e1",
   "metadata": {},
   "outputs": [
    {
     "data": {
      "text/html": [
       "<div>\n",
       "<style scoped>\n",
       "    .dataframe tbody tr th:only-of-type {\n",
       "        vertical-align: middle;\n",
       "    }\n",
       "\n",
       "    .dataframe tbody tr th {\n",
       "        vertical-align: top;\n",
       "    }\n",
       "\n",
       "    .dataframe thead th {\n",
       "        text-align: right;\n",
       "    }\n",
       "</style>\n",
       "<table border=\"1\" class=\"dataframe\">\n",
       "  <thead>\n",
       "    <tr style=\"text-align: right;\">\n",
       "      <th></th>\n",
       "      <th>Country</th>\n",
       "      <th>Year</th>\n",
       "      <th>Sex</th>\n",
       "      <th>Obesity</th>\n",
       "    </tr>\n",
       "  </thead>\n",
       "  <tbody>\n",
       "    <tr>\n",
       "      <th>15116</th>\n",
       "      <td>Nauru</td>\n",
       "      <td>2015</td>\n",
       "      <td>Female</td>\n",
       "      <td>63.1</td>\n",
       "    </tr>\n",
       "  </tbody>\n",
       "</table>\n",
       "</div>"
      ],
      "text/plain": [
       "      Country  Year     Sex  Obesity\n",
       "15116   Nauru  2015  Female     63.1"
      ]
     },
     "execution_count": 62,
     "metadata": {},
     "output_type": "execute_result"
    }
   ],
   "source": [
    "#vendo a maior taxa de obesidade no ano de 2015\n",
    "df_2015 = df_obesity[df_obesity[\"Year\"] == 2015]\n",
    "df_2015[df_2015[\"Obesity\"] == df_2015[\"Obesity\"].max()]"
   ]
  },
  {
   "cell_type": "code",
   "execution_count": 78,
   "id": "a5e804d8-4888-4db5-b99d-8d9eab5b9f63",
   "metadata": {},
   "outputs": [],
   "source": [
    "#criando um data frame com as informações referentes apenas ao brasil\n",
    "df_brazil = df_obesity[df_obesity[\"Country\"] == \"Brazil\"]\n",
    "df_brazil.set_index(\"Year\", inplace=True)"
   ]
  },
  {
   "cell_type": "code",
   "execution_count": 84,
   "id": "8691d336-5e07-49a2-81a2-8d91be14ab18",
   "metadata": {},
   "outputs": [
    {
     "name": "stderr",
     "output_type": "stream",
     "text": [
      "Matplotlib is building the font cache; this may take a moment.\n"
     ]
    },
    {
     "data": {
      "text/plain": [
       "<Axes: xlabel='Year'>"
      ]
     },
     "execution_count": 84,
     "metadata": {},
     "output_type": "execute_result"
    },
    {
     "data": {
      "image/png": "[encoded data removed]",
      "text/plain": [
       "<Figure size 640x480 with 1 Axes>"
      ]
     },
     "metadata": {},
     "output_type": "display_data"
    }
   ],
   "source": [
    "#plotando um gráfico mostrando a diferença de obesidade por sexo ao longo dos anos no brasil\n",
    "(df_brazil[df_brazil[\"Sex\"] == \"Female\"][\"Obesity\"] - df_brazil[df_brazil[\"Sex\"] == \"Male\"][\"Obesity\"]).plot()"
   ]
  },
  {
   "cell_type": "code",
   "execution_count": 92,
   "id": "6015bc7d-f92f-46f8-88a8-034aeb047ad1",
   "metadata": {},
   "outputs": [
    {
     "data": {
      "text/plain": [
       "<Axes: xlabel='Year'>"
      ]
     },
     "execution_count": 92,
     "metadata": {},
     "output_type": "execute_result"
    },
    {
     "data": {
      "image/png": "[encoded data removed]",
      "text/plain": [
       "<Figure size 640x480 with 1 Axes>"
      ]
     },
     "metadata": {},
     "output_type": "display_data"
    }
   ],
   "source": [
    "#visualizando o crescimento da obesidade para ambos os sexos ao decorrer dos anos.\n",
    "df_obesity[df_obesity[\"Sex\"] == \"Both sexes\"].groupby(\"Year\")[\"Obesity\"].mean().plot()"
   ]
  },
  {
   "cell_type": "code",
   "execution_count": null,
   "id": "4476de5d-209c-4a7b-92c6-2689a3c40635",
   "metadata": {},
   "outputs": [],
   "source": []
  },
  {
   "cell_type": "code",
   "execution_count": null,
   "id": "fa496764-1bfe-4600-a4c5-0d14248ce8f3",
   "metadata": {},
   "outputs": [],
   "source": []
  }
 ],
 "metadata": {
  "kernelspec": {
   "display_name": "Python 3 (ipykernel)",
   "language": "python",
   "name": "python3"
  },
  "language_info": {
   "codemirror_mode": {
    "name": "ipython",
    "version": 3
   },
   "file_extension": ".py",
   "mimetype": "text/x-python",
   "name": "python",
   "nbconvert_exporter": "python",
   "pygments_lexer": "ipython3",
   "version": "3.12.4"
  }
 },
 "nbformat": 4,
 "nbformat_minor": 5
}
